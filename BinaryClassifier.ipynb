{
 "cells": [
  {
   "cell_type": "code",
   "execution_count": 7,
   "id": "879df436",
   "metadata": {},
   "outputs": [],
   "source": [
    "import os\n",
    "import numpy as np\n",
    "from tensorflow.keras.preprocessing.image import ImageDataGenerator"
   ]
  },
  {
   "cell_type": "code",
   "execution_count": 8,
   "id": "8f373e97",
   "metadata": {},
   "outputs": [],
   "source": [
    "# Set the paths for the train and validation datasets\n",
    "train_path = \".\\\\dataset\\\\train\"\n",
    "valid_path = \".\\\\dataset\\\\validation\""
   ]
  },
  {
   "cell_type": "code",
   "execution_count": 9,
   "id": "3f7c5c1b",
   "metadata": {},
   "outputs": [],
   "source": [
    "import tensorflow as tf\n",
    "from tensorflow.keras.layers import Input, Dense, Flatten\n",
    "from tensorflow.keras.models import Model\n",
    "from tensorflow.keras.applications.vgg16 import VGG16\n"
   ]
  },
  {
   "cell_type": "code",
   "execution_count": 10,
   "id": "d0f0d4f4",
   "metadata": {},
   "outputs": [
    {
     "name": "stdout",
     "output_type": "stream",
     "text": [
      "Found 2000 images belonging to 2 classes.\n",
      "Found 1000 images belonging to 2 classes.\n"
     ]
    }
   ],
   "source": [
    "from PIL import Image\n",
    "from tensorflow.keras.preprocessing import image\n",
    "# Define the batch size and image size\n",
    "batch_size = 32\n",
    "img_size = (224, 224)\n",
    "\n",
    "# Set up data generators for the train and validation datasets\n",
    "train_datagen = ImageDataGenerator(rescale=1./255, shear_range=0.2, zoom_range=0.2, horizontal_flip=True)\n",
    "train_generator = train_datagen.flow_from_directory(train_path, target_size=img_size, batch_size=batch_size, class_mode='binary')\n",
    "\n",
    "valid_datagen = ImageDataGenerator(rescale=1./255)\n",
    "valid_generator = valid_datagen.flow_from_directory(valid_path, target_size=img_size, batch_size=batch_size, class_mode='binary')"
   ]
  },
  {
   "cell_type": "code",
   "execution_count": 11,
   "id": "347499bf",
   "metadata": {},
   "outputs": [],
   "source": [
    "# Load the pre-trained VGG16 model\n",
    "vgg = VGG16(input_shape=[224,224,3], weights='imagenet', include_top=False)\n",
    "\n",
    "# Freeze the weights of the VGG16 model\n",
    "for layer in vgg.layers:\n",
    "    layer.trainable = False\n",
    "\n",
    "# Define the input layer for the model\n",
    "input_layer = Input(shape=[224,224,3])\n",
    "\n",
    "# Pass the input layer through the VGG16 model to get the features\n",
    "vgg_output = vgg(input_layer)\n",
    "\n",
    "# Flatten the output from the VGG16 model\n",
    "flatten_layer = Flatten()(vgg_output)\n",
    "\n",
    "# Add a fully connected layer with 64 units\n",
    "fc1 = Dense(units=64, activation='relu')(flatten_layer)\n",
    "\n",
    "# Add the output layer with 2 units and use the sigmoid activation function\n",
    "output_layer = Dense(units=1, activation='sigmoid')(fc1)"
   ]
  },
  {
   "cell_type": "code",
   "execution_count": 12,
   "id": "3eb1448a",
   "metadata": {},
   "outputs": [],
   "source": [
    "model_path = '.\\\\modelTest.h5'"
   ]
  },
  {
   "cell_type": "code",
   "execution_count": 14,
   "id": "45d03e0f",
   "metadata": {},
   "outputs": [],
   "source": [
    "from tensorflow import keras\n",
    "\n",
    "# Check if model file exists\n",
    "if os.path.isfile(model_path):\n",
    "    # Load existing model\n",
    "    model = keras.models.load_model(model_path)\n",
    "else:\n",
    "    # Create the model\n",
    "    model = Model(inputs=input_layer, outputs=output_layer)\n",
    "    # Compile the model\n",
    "    model.compile(optimizer='adam', loss='binary_crossentropy', metrics=['accuracy'])\n",
    "    # Train the model\n",
    "    model.fit(train_generator, epochs=10, validation_data=valid_generator)\n",
    "    model.save(model_path)"
   ]
  },
  {
   "cell_type": "code",
   "execution_count": 16,
   "id": "d25cca2e",
   "metadata": {},
   "outputs": [],
   "source": [
    "from tensorflow.keras.preprocessing import image\n",
    "from tensorflow.keras.applications.vgg16 import preprocess_input\n",
    "\n",
    "img_path = 'C:\\\\Users\\\\ATH\\work\\\\test2.jpg'\n",
    "img = image.load_img(img_path, target_size=(224, 224))\n",
    "\n",
    "# Convert the input image to a numpy array\n",
    "img_array = image.img_to_array(img)\n",
    "img_array = np.expand_dims(img_array, axis=0)\n",
    "img_array = preprocess_input(img_array)\n",
    "\n",
    "# Use the model to predict the class probabilities for the input image\n",
    "preds = model.predict(img_array)\n"
   ]
  },
  {
   "cell_type": "code",
   "execution_count": 17,
   "id": "15904dfa",
   "metadata": {},
   "outputs": [],
   "source": [
    "# Get the predicted class label\n",
    "if preds[0][0] == 1:\n",
    "    label = 'A'\n",
    "else:\n",
    "    label = 'B'"
   ]
  },
  {
   "cell_type": "code",
   "execution_count": null,
   "id": "31d299a5",
   "metadata": {},
   "outputs": [],
   "source": []
  }
 ],
 "metadata": {
  "kernelspec": {
   "display_name": "py38",
   "language": "python",
   "name": "py38"
  },
  "language_info": {
   "codemirror_mode": {
    "name": "ipython",
    "version": 3
   },
   "file_extension": ".py",
   "mimetype": "text/x-python",
   "name": "python",
   "nbconvert_exporter": "python",
   "pygments_lexer": "ipython3",
   "version": "3.8.16"
  }
 },
 "nbformat": 4,
 "nbformat_minor": 5
}
